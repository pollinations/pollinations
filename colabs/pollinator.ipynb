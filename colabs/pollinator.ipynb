{
  "cells": [
    {
      "cell_type": "markdown",
      "metadata": {
        "id": "ko_JJEB3YcC9"
      },
      "source": [
        "# Pollinator\n",
        "\n",
        "![Pollination Zoom](https://pollinations.ai/ipfs/QmYtcNr4X16W9SL4XuWfFodi36FuJSgsngAoN5FVUWMxoN)\n",
        "\n",
        "Does the heavy-lifting for **Pollinations.AI** on Google Colab's free GPUs.\n",
        "\n",
        "Click *Runtime - Run All*, switch back to the **Pollinations** tab of the browser and wait a little for the connection to be established.\n",
        "\n",
        "![](https://pollinations.ai/Runtime-RunAll.png)\n",
        "\n",
        "*If you have already run the Pollinator but the node is not appearing in the bottom right of Pollinations.ai, try Runtime -> Restart and Run All*"
      ]
    },
    {
      "cell_type": "code",
      "execution_count": null,
      "metadata": {
        "cellView": "form",
        "id": "RcWlME-DwhrS"
      },
      "outputs": [],
      "source": [
        "#@title Config and Requirements\n",
        "\n",
        "!pip install --upgrade pip\n",
        "!pip install --upgrade typing-extensions==3.10.0.2 protobuf\n",
        "!pip install papermill json5\n",
        "#!pip uninstall -y tqdm\n",
        "#!pip install git+https://github.com/voodoohop/tqdm.git\n",
        "from IPython.display import clear_output\n",
        "from os.path import join, basename\n",
        "from shlex import quote\n",
        "\n",
        "from glob import glob\n",
        "from json5 import loads\n",
        "\n",
        "from subprocess import Popen, PIPE, STDOUT\n",
        "from sys import stdout\n",
        "import os\n",
        "\n",
        "clear_output()\n",
        "#ipfs_nodeid = generate_slug(2)#asyncio.run(loop.create_task(get_node_id()))\n",
        "ipfs_root = \"/content/ipfs\"\n",
        "worker_root = \"/content\"\n",
        "notebook_path = join(ipfs_root,\"input\", \"notebook.ipynb\")\n",
        "\n",
        "print(f\"---Settings---\\nIPFS_ROOT: {ipfs_root}\")\n",
        "\n",
        "node_id = None\n",
        "if os.path.exists(\"/home/ubuntu/node_id\"):\n",
        "  with open(\"/home/ubuntu/node_id\") as f:\n",
        "    node_id = f.readline()\n"
      ]
    },
    {
      "cell_type": "code",
      "execution_count": null,
      "metadata": {
        "cellView": "form",
        "id": "pWfAE_iqBMdB"
      },
      "outputs": [],
      "source": [
        "#@title Empty and create ipfs root: */content/ipfs*\n",
        "\n",
        "\n",
        "\n",
        "!rm -r $ipfs_root\n",
        "!mkdir -p $ipfs_root\n",
        "!mkdir -p $ipfs_root/input\n",
        "!mkdir -p $ipfs_root/output\n",
        "\n",
        "clear_output()"
      ]
    },
    {
      "cell_type": "code",
      "execution_count": null,
      "metadata": {
        "cellView": "form",
        "id": "9j1zUbMN4VDP"
      },
      "outputs": [],
      "source": [
        "#@title Install Pollinations CLI\n",
        "\n",
        "!wget -N https://nodejs.org/dist/v16.14.0/node-v16.14.0-linux-x64.tar.xz\n",
        "!tar -xf node-v16.14.0-linux-x64.tar.xz\n",
        "!rm -rf /tools/node/*\n",
        "!cp -r /content/node-v16.14.0-linux-x64/* /tools/node\n",
        "\n",
        "\n",
        "%cd /content\n",
        "!git clone https://github.com/pollinations/pollinations.git\n",
        "%cd /content/pollinations/app\n",
        "!git pull\n",
        "!git checkout master\n",
        "!git pull\n",
        "!npm run install_backend\n",
        "%cd -\n",
        "\n",
        "clear_output()"
      ]
    },
    {
      "cell_type": "code",
      "execution_count": null,
      "metadata": {
        "cellView": "form",
        "id": "hH76cPjgwZBJ"
      },
      "outputs": [],
      "source": [
        "#@title Get GPU and Node ID\n",
        "\n",
        "#!/content/pollinations/ipfs/ipfsd_install_colab.sh\n",
        "#!nohup /content/pollinations/ipfs/ipfsd_forever.sh &\n",
        "#!sleep 5\n",
        "clear_output()\n",
        "\n",
        "if node_id is None:\n",
        "  node_id=!tr -dc A-Za-z0-9 </dev/urandom | head -c 13 ; echo ''\n",
        "  node_id=node_id[0]\n",
        "\n",
        "gpu_description=!nvidia-smi -L\n",
        "gpu_description=gpu_description[0]\n",
        "\n",
        "\n",
        "print(\"---Node ID---:\", node_id, gpu_description)"
      ]
    },
    {
      "cell_type": "code",
      "execution_count": null,
      "metadata": {
        "cellView": "form",
        "id": "A4TYvT7yoGvE"
      },
      "outputs": [],
      "source": [
        "#@title Create connection to frontend UI\n",
        "\n",
        "import IPython\n",
        "# from google.colab import output\n",
        "\n",
        "import urllib.request\n",
        "\n",
        "def iframe_js(url):\n",
        "    code = f'''\n",
        "      console.log(\"appending iframe of {url}\")\n",
        "      const iframe = document.createElement(\"iframe\")\n",
        "      iframe.frameBorder = 0\n",
        "      iframe.width = 250\n",
        "      iframe.height = 250\n",
        "      iframe.src = `{url}/incolab.html?node={node_id}&gpu={gpu_description}`\n",
        "      document.querySelector(\"#output-area\").appendChild(iframe)\n",
        "      console.log(\"appended iframe of {url}\")\n",
        "      '''\n",
        "    display(IPython.display.Javascript(code))\n",
        "\n",
        "iframe_js(\"https://pollinations.ai\")\n",
        "iframe_js(\"https://seedling.pollinations.ai\")\n",
        "iframe_js(\"http://localhost:3000\")\n"
      ]
    },
    {
      "cell_type": "code",
      "execution_count": null,
      "metadata": {
        "cellView": "form",
        "id": "2qcR2Tgghrf3"
      },
      "outputs": [],
      "source": [
        "#@title Notebook Runner\n",
        "from time import sleep\n",
        "import sys\n",
        "import matplotlib\n",
        "matplotlib.use('Agg')\n",
        "!pip config set global.progress_bar off\n",
        "output_path = ipfs_root+\"/output\"\n",
        "\n",
        "!pollinate --execute \"run_notebook.sh\" -l $output_path/log -p $ipfs_root --ipns -n $node_id --debounce 200 > /content/cid\n"
      ]
    }
  ],
  "metadata": {
    "accelerator": "GPU",
    "colab": {
      "collapsed_sections": [],
      "machine_shape": "hm",
      "name": "Pollinator",
      "private_outputs": true,
      "provenance": []
    },
    "kernelspec": {
      "display_name": "Python 3",
      "name": "python3"
    }
  },
  "nbformat": 4,
  "nbformat_minor": 0
}
